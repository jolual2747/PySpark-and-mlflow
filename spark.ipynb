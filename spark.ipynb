{
 "cells": [
  {
   "cell_type": "code",
   "execution_count": null,
   "metadata": {},
   "outputs": [],
   "source": []
  },
  {
   "cell_type": "code",
   "execution_count": 1,
   "metadata": {},
   "outputs": [
    {
     "name": "stderr",
     "output_type": "stream",
     "text": [
      "your 131072x1 screen size is bogus. expect trouble\n",
      "23/07/05 00:23:33 WARN Utils: Your hostname, DESKTOP-JKDOQO9 resolves to a loopback address: 127.0.1.1; using 172.26.19.142 instead (on interface eth0)\n",
      "23/07/05 00:23:33 WARN Utils: Set SPARK_LOCAL_IP if you need to bind to another address\n"
     ]
    },
    {
     "name": "stdout",
     "output_type": "stream",
     "text": [
      ":: loading settings :: url = jar:file:/home/josealcocer27/.local/lib/python3.8/site-packages/pyspark/jars/ivy-2.5.1.jar!/org/apache/ivy/core/settings/ivysettings.xml\n"
     ]
    },
    {
     "name": "stderr",
     "output_type": "stream",
     "text": [
      "Ivy Default Cache set to: /home/josealcocer27/.ivy2/cache\n",
      "The jars for the packages stored in: /home/josealcocer27/.ivy2/jars\n",
      "org.apache.spark#spark-avro_2.12 added as a dependency\n",
      "io.delta#delta-core_2.12 added as a dependency\n",
      ":: resolving dependencies :: org.apache.spark#spark-submit-parent-c5ecbbc8-3c26-4e29-900f-63e4be918a77;1.0\n",
      "\tconfs: [default]\n",
      "\tfound org.apache.spark#spark-avro_2.12;3.4.1 in central\n",
      "\tfound org.tukaani#xz;1.9 in central\n",
      "\tfound io.delta#delta-core_2.12;2.4.0 in central\n",
      "\tfound io.delta#delta-storage;2.4.0 in central\n",
      "\tfound org.antlr#antlr4-runtime;4.9.3 in central\n",
      ":: resolution report :: resolve 293ms :: artifacts dl 13ms\n",
      "\t:: modules in use:\n",
      "\tio.delta#delta-core_2.12;2.4.0 from central in [default]\n",
      "\tio.delta#delta-storage;2.4.0 from central in [default]\n",
      "\torg.antlr#antlr4-runtime;4.9.3 from central in [default]\n",
      "\torg.apache.spark#spark-avro_2.12;3.4.1 from central in [default]\n",
      "\torg.tukaani#xz;1.9 from central in [default]\n",
      "\t---------------------------------------------------------------------\n",
      "\t|                  |            modules            ||   artifacts   |\n",
      "\t|       conf       | number| search|dwnlded|evicted|| number|dwnlded|\n",
      "\t---------------------------------------------------------------------\n",
      "\t|      default     |   5   |   0   |   0   |   0   ||   5   |   0   |\n",
      "\t---------------------------------------------------------------------\n",
      ":: retrieving :: org.apache.spark#spark-submit-parent-c5ecbbc8-3c26-4e29-900f-63e4be918a77\n",
      "\tconfs: [default]\n",
      "\t0 artifacts copied, 5 already retrieved (0kB/7ms)\n",
      "23/07/05 00:23:35 WARN NativeCodeLoader: Unable to load native-hadoop library for your platform... using builtin-java classes where applicable\n",
      "Setting default log level to \"WARN\".\n",
      "To adjust logging level use sc.setLogLevel(newLevel). For SparkR, use setLogLevel(newLevel).\n"
     ]
    }
   ],
   "source": [
    "import os\n",
    "import warnings\n",
    "warnings.filterwarnings('ignore')\n",
    "from pyspark.sql import SparkSession\n",
    "from pyspark import SparkContext\n",
    "from pyspark.sql import SQLContext\n",
    "os.environ[\"JAVA_HOME\"] = \"/usr/lib/jvm/java-11-openjdk-amd64\"\n",
    "os.environ['PYSPARK_SUBMIT_ARGS'] = '--packages  org.apache.spark:spark-avro_2.12:3.4.1,io.delta:delta-core_2.12:2.4.0 pyspark-shell'\n",
    "spark = SparkSession.builder.master(\"local[*]\").appName(\"Spark_ML\") \\\n",
    "        .config(\"spark.sql.extensions\", \"io.delta.sql.DeltaSparkSessionExtension\") \\\n",
    "        .config(\"spark.sql.catalog.spark_catalog\", \"org.apache.spark.sql.delta.catalog.DeltaCatalog\")\\\n",
    "        .enableHiveSupport()\\\n",
    "        .getOrCreate()\n",
    "\n",
    "sc = SparkContext.getOrCreate()\n",
    "sqlCtx = SQLContext(sc)"
   ]
  },
  {
   "cell_type": "code",
   "execution_count": 10,
   "metadata": {},
   "outputs": [],
   "source": [
    "df = spark.read.format('delta')\\\n",
    "    .load('delta/saber11')"
   ]
  },
  {
   "cell_type": "code",
   "execution_count": 11,
   "metadata": {},
   "outputs": [
    {
     "name": "stderr",
     "output_type": "stream",
     "text": [
      "23/07/05 00:26:15 WARN package: Truncated the string representation of a plan since it was too large. This behavior can be adjusted by setting 'spark.sql.debug.maxToStringFields'.\n",
      "                                                                                \r"
     ]
    },
    {
     "data": {
      "text/plain": [
       "10361"
      ]
     },
     "execution_count": 11,
     "metadata": {},
     "output_type": "execute_result"
    }
   ],
   "source": [
    "df.count()"
   ]
  },
  {
   "cell_type": "code",
   "execution_count": 12,
   "metadata": {},
   "outputs": [
    {
     "name": "stdout",
     "output_type": "stream",
     "text": [
      "root\n",
      " |-- lenguaje: string (nullable = true)\n",
      " |-- matematicas: string (nullable = true)\n",
      " |-- sociales: string (nullable = true)\n",
      " |-- Id: integer (nullable = true)\n",
      " |-- filosofia: string (nullable = true)\n",
      " |-- biologia: string (nullable = true)\n",
      " |-- quimica: string (nullable = true)\n",
      " |-- fisica: string (nullable = true)\n",
      " |-- nivel_ingles: string (nullable = true)\n",
      " |-- sisben: integer (nullable = true)\n",
      " |-- estrato: integer (nullable = true)\n",
      " |-- genero: string (nullable = true)\n",
      " |-- puntaje_saber11: string (nullable = true)\n",
      "\n"
     ]
    }
   ],
   "source": [
    "df.printSchema()"
   ]
  },
  {
   "cell_type": "code",
   "execution_count": 13,
   "metadata": {},
   "outputs": [
    {
     "name": "stdout",
     "output_type": "stream",
     "text": [
      "\n",
      "Unique values at column lenguaje\n",
      "\n"
     ]
    },
    {
     "name": "stderr",
     "output_type": "stream",
     "text": [
      "                                                                                \r"
     ]
    },
    {
     "name": "stdout",
     "output_type": "stream",
     "text": [
      "+--------+\n",
      "|lenguaje|\n",
      "+--------+\n",
      "|    bajo|\n",
      "|   medio|\n",
      "|superior|\n",
      "|    alto|\n",
      "+--------+\n",
      "\n",
      "\n",
      "Unique values at column matematicas\n",
      "\n",
      "+-----------+\n",
      "|matematicas|\n",
      "+-----------+\n",
      "|       bajo|\n",
      "|      medio|\n",
      "|   superior|\n",
      "|       alto|\n",
      "+-----------+\n",
      "\n",
      "\n",
      "Unique values at column sociales\n",
      "\n",
      "+--------+\n",
      "|sociales|\n",
      "+--------+\n",
      "|    bajo|\n",
      "|   medio|\n",
      "|superior|\n",
      "|    alto|\n",
      "+--------+\n",
      "\n",
      "\n",
      "Unique values at column filosofia\n",
      "\n",
      "+---------+\n",
      "|filosofia|\n",
      "+---------+\n",
      "|     bajo|\n",
      "|    medio|\n",
      "| superior|\n",
      "|     alto|\n",
      "+---------+\n",
      "\n",
      "\n",
      "Unique values at column biologia\n",
      "\n",
      "+--------+\n",
      "|biologia|\n",
      "+--------+\n",
      "|    bajo|\n",
      "|   medio|\n",
      "|superior|\n",
      "|    alto|\n",
      "+--------+\n",
      "\n",
      "\n",
      "Unique values at column quimica\n",
      "\n",
      "+--------+\n",
      "| quimica|\n",
      "+--------+\n",
      "|    bajo|\n",
      "|   medio|\n",
      "|superior|\n",
      "|    alto|\n",
      "+--------+\n",
      "\n",
      "\n",
      "Unique values at column fisica\n",
      "\n",
      "+--------+\n",
      "|  fisica|\n",
      "+--------+\n",
      "|    bajo|\n",
      "|superior|\n",
      "|   medio|\n",
      "|    alto|\n",
      "+--------+\n",
      "\n",
      "\n",
      "Unique values at column nivel_ingles\n",
      "\n",
      "+------------+\n",
      "|nivel_ingles|\n",
      "+------------+\n",
      "|          A2|\n",
      "|          A-|\n",
      "|          B1|\n",
      "|          B+|\n",
      "|          A1|\n",
      "+------------+\n",
      "\n",
      "\n",
      "Unique values at column sisben\n",
      "\n",
      "+------+\n",
      "|sisben|\n",
      "+------+\n",
      "|     1|\n",
      "|     3|\n",
      "|    -9|\n",
      "|     5|\n",
      "|     4|\n",
      "|     2|\n",
      "+------+\n",
      "\n",
      "\n",
      "Unique values at column estrato\n",
      "\n",
      "+-------+\n",
      "|estrato|\n",
      "+-------+\n",
      "|      1|\n",
      "|      6|\n",
      "|      3|\n",
      "|      5|\n",
      "|      4|\n",
      "|      2|\n",
      "+-------+\n",
      "\n",
      "\n",
      "Unique values at column genero\n",
      "\n",
      "+------+\n",
      "|genero|\n",
      "+------+\n",
      "|Hombre|\n",
      "| Mujer|\n",
      "+------+\n",
      "\n",
      "\n",
      "Unique values at column puntaje_saber11\n",
      "\n",
      "+---------------+\n",
      "|puntaje_saber11|\n",
      "+---------------+\n",
      "|           bajo|\n",
      "|          medio|\n",
      "+---------------+\n",
      "\n"
     ]
    }
   ],
   "source": [
    "for column in df.columns:\n",
    "    if column != 'Id':\n",
    "        print(f'\\nUnique values at column {column}\\n')\n",
    "        df.select(column).distinct().show()"
   ]
  },
  {
   "cell_type": "code",
   "execution_count": 14,
   "metadata": {},
   "outputs": [],
   "source": [
    "df = df.drop('id')\n",
    "df = df.dropna()"
   ]
  }
 ],
 "metadata": {
  "kernelspec": {
   "display_name": "Python 3",
   "language": "python",
   "name": "python3"
  },
  "language_info": {
   "codemirror_mode": {
    "name": "ipython",
    "version": 3
   },
   "file_extension": ".py",
   "mimetype": "text/x-python",
   "name": "python",
   "nbconvert_exporter": "python",
   "pygments_lexer": "ipython3",
   "version": "3.8.10"
  },
  "orig_nbformat": 4
 },
 "nbformat": 4,
 "nbformat_minor": 2
}
